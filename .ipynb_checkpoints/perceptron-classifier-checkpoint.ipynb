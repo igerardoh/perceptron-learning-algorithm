{
 "cells": [
  {
   "cell_type": "markdown",
   "metadata": {},
   "source": [
    "# PERCEPTRON"
   ]
  },
  {
   "cell_type": "markdown",
   "metadata": {},
   "source": [
    "##### LOAD THE DATA"
   ]
  },
  {
   "cell_type": "code",
   "execution_count": 3,
   "metadata": {
    "scrolled": false
   },
   "outputs": [
    {
     "data": {
      "text/plain": [
       "array([[5.1, 3.5, 0. ],\n",
       "       [4.9, 3. , 0. ],\n",
       "       [4.7, 3.2, 0. ],\n",
       "       [4.9, 3. , 0. ],\n",
       "       [4.6, 3.1, 0. ],\n",
       "       [4.6, 3.1, 0. ],\n",
       "       [4.7, 3.2, 0. ],\n",
       "       [4.6, 3.4, 0. ],\n",
       "       [5.4, 3.9, 0. ],\n",
       "       [5. , 3.6, 0. ]])"
      ]
     },
     "execution_count": 3,
     "metadata": {},
     "output_type": "execute_result"
    }
   ],
   "source": [
    "import numpy as np\n",
    "\n",
    "# each row contains Sepal length in cm, Sepal width in cm and type (0:setosa|1:versicolor)\n",
    "filename = 'iris-data.csv'\n",
    "data = np.loadtxt(filename, delimiter=',')\n",
    "data[:10]  # print the first 10 items"
   ]
  },
  {
   "cell_type": "markdown",
   "metadata": {},
   "source": [
    "##### VISUALIZE THE DATA\n",
    "It is a good idea to visualize the data so we can confirm that the data is linearly separable."
   ]
  },
  {
   "cell_type": "code",
   "execution_count": 2,
   "metadata": {},
   "outputs": [
    {
     "data": {
      "image/png": "[encoded data removed]",
      "text/plain": [
       "<matplotlib.figure.Figure at 0x1f4dae03208>"
      ]
     },
     "metadata": {},
     "output_type": "display_data"
    }
   ],
   "source": [
    "%matplotlib inline\n",
    "import matplotlib.pyplot as plt\n",
    "\n",
    "plt.grid()\n",
    "\n",
    "for i in range(len(data)) :\n",
    "    point = data[i]\n",
    "    if point[2] == 0 :\n",
    "        color = 'r'  # setosas will appear in red\n",
    "    else:\n",
    "        color = 'b'  # versicolor will appear in blue\n",
    "    \n",
    "    plt.scatter(point[0], point[1], c=color)\n",
    "    plt.xlabel('Sepal Length [cm]')\n",
    "    plt.ylabel('Sepal Width [cm]');"
   ]
  },
  {
   "cell_type": "code",
   "execution_count": 3,
   "metadata": {},
   "outputs": [
    {
     "data": {
      "text/html": [
       "<img src=\"https://farm9.staticflickr.com/8383/8675226902_e72273713f_k.jpg\" width=\"350\" height=\"350\"/>"
      ],
      "text/plain": [
       "<IPython.core.display.Image object>"
      ]
     },
     "execution_count": 3,
     "metadata": {},
     "output_type": "execute_result"
    }
   ],
   "source": [
    "from IPython.display import Image\n",
    "from IPython.core.display import HTML \n",
    "\n",
    "Image(url= 'https://farm9.staticflickr.com/8383/8675226902_e72273713f_k.jpg', width=350, height=350)"
   ]
  },
  {
   "cell_type": "markdown",
   "metadata": {},
   "source": [
    "##### DEFINE TRAINING AND TESTING SETS"
   ]
  },
  {
   "cell_type": "code",
   "execution_count": 4,
   "metadata": {},
   "outputs": [
    {
     "data": {
      "text/plain": [
       "(68, 2)"
      ]
     },
     "execution_count": 4,
     "metadata": {},
     "output_type": "execute_result"
    }
   ],
   "source": [
    "from sklearn.model_selection import train_test_split\n",
    "\n",
    "target = data[:, -1]\n",
    "data = data[:, :-1]\n",
    "\n",
    "X_train, X_test, y_train, y_test = train_test_split(\n",
    "    data, target, test_size=0.30, random_state=42)\n",
    "\n",
    "X_train.shape"
   ]
  },
  {
   "cell_type": "markdown",
   "metadata": {},
   "source": [
    "##### TRAIN THE MODEL"
   ]
  },
  {
   "cell_type": "code",
   "execution_count": 5,
   "metadata": {},
   "outputs": [],
   "source": [
    "from sklearn.metrics import mean_squared_error\n",
    "\n",
    "np.random.seed(93)\n",
    "\n",
    "class Perceptron(object):\n",
    "    def __init__(self, learning=0.01, n_epochs=20):\n",
    "        self.learning = learning\n",
    "        self.n_epochs = n_epochs\n",
    "    \n",
    "    def predict(self, X):\n",
    "        pred = np.dot(X, self.w_) + self.b_\n",
    "        return 1.0 if pred >= 0.0 else 0.0\n",
    "    \n",
    "    def fit(self, X, y):\n",
    "        # iniciate the weights and bias\n",
    "        self.w_ = np.random.uniform(0, 1, X.shape[1])\n",
    "        self.b_ = np.random.uniform(0, 1, 1)\n",
    "        \n",
    "        self.costList_ = []\n",
    "\n",
    "        for ep in range(self.n_epochs):\n",
    "            cost_epoch = 0\n",
    "            for xi, target in zip(X, y):\n",
    "                # cost function\n",
    "                pred = self.predict(xi)\n",
    "                cost = np.square(target - pred)\n",
    "                cost_epoch += float(cost/len(X))  # MSE\n",
    "                \n",
    "                # update weights and bias\n",
    "                update = self.learning * (target - pred)\n",
    "                self.w_ += update * xi\n",
    "                self.b_ += update\n",
    "            \n",
    "            # store MSE through every epoch iteration\n",
    "            self.costList_.append(cost_epoch)\n",
    "            \n",
    "            # print model improvements\n",
    "            print(\"Epoch: {:04}\\tLoss: {:06.5f}\".format((ep+1), cost_epoch), end='')\n",
    "            print(\"\\t\\tRegression: {:.2f}(X1) + {:.2f}(X2) + {:.2f}\".format(self.w_[0],\n",
    "                                                                      self.w_[1],\n",
    "                                                                      float(self.b_)))\n",
    "        return self"
   ]
  },
  {
   "cell_type": "markdown",
   "metadata": {},
   "source": [
    "##### EXECUTE THE MODEL"
   ]
  },
  {
   "cell_type": "code",
   "execution_count": 6,
   "metadata": {},
   "outputs": [
    {
     "name": "stdout",
     "output_type": "stream",
     "text": [
      "Epoch: 0001\tLoss: 0.58824\t\tRegression: -0.08(X1) + 0.03(X2) + 0.15\n",
      "Epoch: 0002\tLoss: 0.39706\t\tRegression: -0.02(X1) + -0.09(X2) + 0.14\n",
      "Epoch: 0003\tLoss: 0.32353\t\tRegression: 0.06(X1) + -0.15(X2) + 0.14\n",
      "Epoch: 0004\tLoss: 0.02941\t\tRegression: 0.06(X1) + -0.15(X2) + 0.14\n",
      "Epoch: 0005\tLoss: 0.00000\t\tRegression: 0.06(X1) + -0.15(X2) + 0.14\n",
      "Epoch: 0006\tLoss: 0.00000\t\tRegression: 0.06(X1) + -0.15(X2) + 0.14\n",
      "Epoch: 0007\tLoss: 0.00000\t\tRegression: 0.06(X1) + -0.15(X2) + 0.14\n",
      "Epoch: 0008\tLoss: 0.00000\t\tRegression: 0.06(X1) + -0.15(X2) + 0.14\n",
      "Epoch: 0009\tLoss: 0.00000\t\tRegression: 0.06(X1) + -0.15(X2) + 0.14\n",
      "Epoch: 0010\tLoss: 0.00000\t\tRegression: 0.06(X1) + -0.15(X2) + 0.14\n",
      "Epoch: 0011\tLoss: 0.00000\t\tRegression: 0.06(X1) + -0.15(X2) + 0.14\n",
      "Epoch: 0012\tLoss: 0.00000\t\tRegression: 0.06(X1) + -0.15(X2) + 0.14\n",
      "Epoch: 0013\tLoss: 0.00000\t\tRegression: 0.06(X1) + -0.15(X2) + 0.14\n",
      "Epoch: 0014\tLoss: 0.00000\t\tRegression: 0.06(X1) + -0.15(X2) + 0.14\n",
      "Epoch: 0015\tLoss: 0.00000\t\tRegression: 0.06(X1) + -0.15(X2) + 0.14\n",
      "Epoch: 0016\tLoss: 0.00000\t\tRegression: 0.06(X1) + -0.15(X2) + 0.14\n",
      "Epoch: 0017\tLoss: 0.00000\t\tRegression: 0.06(X1) + -0.15(X2) + 0.14\n",
      "Epoch: 0018\tLoss: 0.00000\t\tRegression: 0.06(X1) + -0.15(X2) + 0.14\n",
      "Epoch: 0019\tLoss: 0.00000\t\tRegression: 0.06(X1) + -0.15(X2) + 0.14\n",
      "Epoch: 0020\tLoss: 0.00000\t\tRegression: 0.06(X1) + -0.15(X2) + 0.14\n"
     ]
    },
    {
     "data": {
      "text/plain": [
       "<__main__.Perceptron at 0x1f4dc6b48d0>"
      ]
     },
     "execution_count": 6,
     "metadata": {},
     "output_type": "execute_result"
    }
   ],
   "source": [
    "clf = Perceptron()\n",
    "clf.fit(X_train, y_train)"
   ]
  },
  {
   "cell_type": "markdown",
   "metadata": {},
   "source": [
    "##### VISUALIZE MODEL IMPROVEMENT"
   ]
  },
  {
   "cell_type": "code",
   "execution_count": 7,
   "metadata": {},
   "outputs": [
    {
     "data": {
      "image/png": "[encoded data removed]",
      "text/plain": [
       "<matplotlib.figure.Figure at 0x1f4dbe13b70>"
      ]
     },
     "metadata": {},
     "output_type": "display_data"
    }
   ],
   "source": [
    "plt.plot(clf.costList_)\n",
    "plt.xlabel('epochs')\n",
    "plt.ylabel('MSE');\n",
    "plt.show()"
   ]
  },
  {
   "cell_type": "markdown",
   "metadata": {},
   "source": [
    "##### VISUALIZE CONFUSION MATRIX"
   ]
  },
  {
   "cell_type": "code",
   "execution_count": 8,
   "metadata": {},
   "outputs": [
    {
     "name": "stdout",
     "output_type": "stream",
     "text": [
      "computing confusion matrix on training sets..\n"
     ]
    },
    {
     "data": {
      "image/png": "[encoded data removed]",
      "text/plain": [
       "<matplotlib.figure.Figure at 0x1f4d7aae128>"
      ]
     },
     "metadata": {},
     "output_type": "display_data"
    },
    {
     "name": "stdout",
     "output_type": "stream",
     "text": [
      "computing confusion matrix on testing sets..\n"
     ]
    },
    {
     "data": {
      "image/png": "[encoded data removed]",
      "text/plain": [
       "<matplotlib.figure.Figure at 0x1f4dbe60898>"
      ]
     },
     "metadata": {},
     "output_type": "display_data"
    }
   ],
   "source": [
    "import seaborn as sns\n",
    "from sklearn.metrics import confusion_matrix\n",
    "\n",
    "# this will make the plot better-looking\n",
    "cmap = cmap=plt.cm.get_cmap('Reds', 10)\n",
    "\n",
    "# create a confusion matrix for training set\n",
    "print('computing confusion matrix on training sets..')\n",
    "matrix_labels = ['0:setosa', '1:versicolor']\n",
    "train_predictions = [clf.predict(item) for item in X_train]\n",
    "mat = confusion_matrix(y_train, train_predictions)\n",
    "sns.heatmap(mat.T, square=True, annot=True, fmt='d',\n",
    "            cbar=True, xticklabels=matrix_labels,\n",
    "            yticklabels=matrix_labels, cmap=cmap)\n",
    "\n",
    "plt.xlabel('Train Label set')\n",
    "plt.ylabel('Predictions')\n",
    "plt.show()\n",
    "\n",
    "# create a confusion matrix for testing set\n",
    "print('computing confusion matrix on testing sets..')\n",
    "matrix_labels = ['0:setosa', '1:versicolor']\n",
    "test_predictions = [clf.predict(item) for item in X_test]\n",
    "mat = confusion_matrix(y_test, test_predictions)\n",
    "sns.heatmap(mat.T, square=True, annot=True, fmt='d',\n",
    "            cbar=True, xticklabels=matrix_labels,\n",
    "            yticklabels=matrix_labels, cmap=cmap)\n",
    "\n",
    "plt.xlabel('Test Label set')\n",
    "plt.ylabel('Predictions')\n",
    "plt.show()\n"
   ]
  },
  {
   "cell_type": "markdown",
   "metadata": {},
   "source": [
    "###### COMPARING EVERY SINGLE RESULT"
   ]
  },
  {
   "cell_type": "code",
   "execution_count": 9,
   "metadata": {},
   "outputs": [
    {
     "data": {
      "image/png": "[encoded data removed]",
      "text/plain": [
       "<matplotlib.figure.Figure at 0x1f4dc6e7710>"
      ]
     },
     "metadata": {},
     "output_type": "display_data"
    },
    {
     "name": "stdout",
     "output_type": "stream",
     "text": [
      "expectedValue vs prediction:\t 1.0 | 1.0\n",
      "expectedValue vs prediction:\t 1.0 | 1.0\n",
      "expectedValue vs prediction:\t 0.0 | 0.0\n",
      "expectedValue vs prediction:\t 0.0 | 0.0\n",
      "expectedValue vs prediction:\t 0.0 | 0.0\n",
      "expectedValue vs prediction:\t 1.0 | 1.0\n",
      "expectedValue vs prediction:\t 1.0 | 1.0\n",
      "expectedValue vs prediction:\t 1.0 | 1.0\n",
      "expectedValue vs prediction:\t 0.0 | 0.0\n",
      "expectedValue vs prediction:\t 0.0 | 0.0\n",
      "expectedValue vs prediction:\t 0.0 | 0.0\n",
      "expectedValue vs prediction:\t 0.0 | 0.0\n",
      "expectedValue vs prediction:\t 1.0 | 1.0\n",
      "expectedValue vs prediction:\t 0.0 | 0.0\n",
      "expectedValue vs prediction:\t 1.0 | 1.0\n",
      "expectedValue vs prediction:\t 0.0 | 0.0\n",
      "expectedValue vs prediction:\t 0.0 | 0.0\n",
      "expectedValue vs prediction:\t 0.0 | 0.0\n",
      "expectedValue vs prediction:\t 1.0 | 1.0\n",
      "expectedValue vs prediction:\t 0.0 | 0.0\n",
      "expectedValue vs prediction:\t 0.0 | 0.0\n",
      "expectedValue vs prediction:\t 1.0 | 1.0\n",
      "expectedValue vs prediction:\t 0.0 | 0.0\n",
      "expectedValue vs prediction:\t 0.0 | 0.0\n",
      "expectedValue vs prediction:\t 0.0 | 0.0\n",
      "expectedValue vs prediction:\t 0.0 | 0.0\n",
      "expectedValue vs prediction:\t 0.0 | 0.0\n",
      "expectedValue vs prediction:\t 1.0 | 1.0\n",
      "expectedValue vs prediction:\t 0.0 | 0.0\n",
      "expectedValue vs prediction:\t 0.0 | 0.0\n"
     ]
    }
   ],
   "source": [
    "for i, point in enumerate(data):\n",
    "    # Plot the samples with labels = 0\n",
    "    out = clf.predict(point)\n",
    "    if out==0:\n",
    "        plt.scatter(point[0], point[1], s=120, marker='_', linewidths=2, color='blue')\n",
    "    # Plot the samples with labels = 1\n",
    "    else:\n",
    "        plt.scatter(point[0], point[1], s=120, marker='+', linewidths=2, color='blue')\n",
    "plt.show()\n",
    "\n",
    "for i in range(len(y_test)):\n",
    "    print('expectedValue vs prediction:\\t {} | {}'.format(y_test[i], clf.predict(X_test[i])))"
   ]
  },
  {
   "cell_type": "markdown",
   "metadata": {},
   "source": [
    "##### TRY IT YOURSELF"
   ]
  },
  {
   "cell_type": "code",
   "execution_count": 10,
   "metadata": {},
   "outputs": [
    {
     "name": "stdout",
     "output_type": "stream",
     "text": [
      "Iris-versicolor\n"
     ]
    }
   ],
   "source": [
    "petal_length = 5.5\n",
    "petal_width = 2.3\n",
    "\n",
    "# 0: Iris-setosa | 1: Iris-versicolor\n",
    "print('Iris-versicolor' if clf.predict([petal_length, petal_width]) else 'Iris-setosa')"
   ]
  }
 ],
 "metadata": {
  "kernelspec": {
   "display_name": "Python 3 (ipykernel)",
   "language": "python",
   "name": "python3"
  },
  "language_info": {
   "codemirror_mode": {
    "name": "ipython",
    "version": 3
   },
   "file_extension": ".py",
   "mimetype": "text/x-python",
   "name": "python",
   "nbconvert_exporter": "python",
   "pygments_lexer": "ipython3",
   "version": "3.10.8"
  }
 },
 "nbformat": 4,
 "nbformat_minor": 2
}
